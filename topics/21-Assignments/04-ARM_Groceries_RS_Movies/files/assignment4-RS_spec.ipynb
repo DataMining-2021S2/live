{
 "cells": [
  {
   "cell_type": "markdown",
   "id": "60498933",
   "metadata": {},
   "source": [
    "# Assignment 3: Recommender Systems"
   ]
  },
  {
   "cell_type": "markdown",
   "id": "fe6cf0a0",
   "metadata": {},
   "source": [
    "We use the well-known MovieLens dataset (in this case the small version). You may find the following useful to obtain the data from the GroupLens repository, and to read it into a dataframe."
   ]
  },
  {
   "cell_type": "code",
   "execution_count": null,
   "id": "6828c487",
   "metadata": {},
   "outputs": [],
   "source": [
    "import os, requests\n",
    "import numpy as np\n",
    "\n",
    "#mlSize = \"ml-1m\"\n",
    "#mlSize = \"ml-100k\"\n",
    "mlSize = \"ml-latest-small\"\n",
    "zipUrl = 'http://files.grouplens.org/datasets/movielens/'+mlSize+'.zip'\n",
    "zipFile = 'data/'+mlSize+'.zip'\n",
    "dataFile = zipFile\n",
    "url = zipUrl\n",
    "dataDir = 'data'\n",
    "if not os.path.exists(dataDir):\n",
    "    os.makedirs(dataDir)\n",
    "if not os.path.isfile(zipFile):\n",
    "    r = requests.get(zipUrl)\n",
    "    with open(zipFile, 'wb') as f:\n",
    "        f.write(r.content)\n",
    "\n",
    "# Need to unzip the file to read its contents\n",
    "import zipfile\n",
    "with zipfile.ZipFile(zipFile,\"r\") as zip_ref:\n",
    "    zip_ref.extractall(dataDir)"
   ]
  },
  {
   "cell_type": "code",
   "execution_count": null,
   "id": "4d73c510",
   "metadata": {},
   "outputs": [],
   "source": [
    "# Read the ratings data into a dataframe\n",
    "import pandas as pd\n",
    "fn = 'ratings.csv'\n",
    "colNames = ['UserID','MovieID','Rating','Timestamp']\n",
    "ratingsDf = pd.read_csv('data/'+mlSize+'/'+fn, names=colNames, skiprows=1, sep=',', engine='python')\n",
    "ratingsDf.head()"
   ]
  },
  {
   "cell_type": "code",
   "execution_count": null,
   "id": "857c57e4",
   "metadata": {},
   "outputs": [],
   "source": [
    "# Timestamps are difficult for humans to read, so convert them into a more readable format\n",
    "import time\n",
    "ts = time.gmtime()\n",
    "print(\"Timestamp now is {} which is {}\".format(str(ts),time.strftime(\"%Y-%m-%d %H:%M:%S\", ts)))"
   ]
  },
  {
   "cell_type": "code",
   "execution_count": null,
   "id": "0211cc97",
   "metadata": {},
   "outputs": [],
   "source": [
    "ratingsDf['DateTime'] = pd.to_datetime(ratingsDf['Timestamp'],unit='s')\n",
    "ratingsDf.drop(columns=['Timestamp'], inplace=True)\n",
    "ratingsDf.head()"
   ]
  },
  {
   "cell_type": "markdown",
   "id": "10c89ea0",
   "metadata": {},
   "source": [
    "__Task 2.1__: Based on the code above, read the `movies.csv` data files into data frames. In the past,\n",
    "GroupLens also included user data. Comment on why that is no longer the case and what this means for\n",
    "recommendation algorithms.\n"
   ]
  },
  {
   "cell_type": "code",
   "execution_count": null,
   "id": "c6d17333",
   "metadata": {},
   "outputs": [],
   "source": [
    "## BEGIN YOUR ANSWER HERE"
   ]
  },
  {
   "cell_type": "code",
   "execution_count": null,
   "id": "8e7181da",
   "metadata": {},
   "outputs": [],
   "source": []
  },
  {
   "cell_type": "markdown",
   "id": "8d3aca02",
   "metadata": {},
   "source": [
    "**Comments**\n",
    "\n",
    " *"
   ]
  },
  {
   "cell_type": "code",
   "execution_count": null,
   "id": "04ed29d5",
   "metadata": {},
   "outputs": [],
   "source": [
    "## END YOUR ANSWER HERE"
   ]
  },
  {
   "cell_type": "markdown",
   "id": "dc9cd676",
   "metadata": {},
   "source": [
    "The following code can be used to filter the number of Movies. Choosing a large threshold (like 200) ensures that only \"blockbuster\" movies with that number of aggregate ratings will be considered. This is convenient (much reduced runtimes!) when developing your solution, but a less stringent threshold should be used for the result you hand in (100 is required)."
   ]
  },
  {
   "cell_type": "code",
   "execution_count": null,
   "id": "3eab13ff",
   "metadata": {},
   "outputs": [],
   "source": [
    "#minMovieRatings = 200\n",
    "minMovieRatings = 100\n",
    "filterMovies = ratingsDf['MovieID'].value_counts() > minMovieRatings\n",
    "filterMovies = filterMovies[filterMovies].index.tolist()\n",
    "print('Filtered ratings - omitting movies with less than {} ratings results in {} ratings'.format(minMovieRatings, len(filterMovies)))"
   ]
  },
  {
   "cell_type": "markdown",
   "id": "cabd118f",
   "metadata": {},
   "source": [
    " __Task 2.2__\n",
    "<br /> a) You should apply a similar filter to the Users, selecting only those who rated at least 80 movies.\n",
    "<br /> b) You should then apply `filterUsers` and `filterMovies` filters to the ratings dataframe, you might find the `isin(filteredSet)` function useful.\n",
    "<br /> c) You are given some code below to help you visualise the distribution of counts of ratings by user. Hence or otherwise comment on the similarities and differences between the distributions of ratings by user and of ratings by Movie.\n",
    "<br /> d) Save the filter dataframe as `filteredRatingsDf`."
   ]
  },
  {
   "cell_type": "code",
   "execution_count": null,
   "id": "c6bf351f",
   "metadata": {},
   "outputs": [],
   "source": [
    "## BEGIN YOUR ANSWER HERE"
   ]
  },
  {
   "cell_type": "code",
   "execution_count": null,
   "id": "8b486da4",
   "metadata": {},
   "outputs": [],
   "source": []
  },
  {
   "cell_type": "markdown",
   "id": "c5e44a0f",
   "metadata": {},
   "source": [
    "**Comments**\n",
    "\n",
    " *"
   ]
  },
  {
   "cell_type": "code",
   "execution_count": null,
   "id": "e54e21c7",
   "metadata": {},
   "outputs": [],
   "source": [
    "## END YOUR ANSWER HERE"
   ]
  },
  {
   "cell_type": "markdown",
   "id": "c9ceeff8",
   "metadata": {},
   "source": [
    "Using the filtered ratings dataframe, count the ratings per User and plot this data in a histogram. "
   ]
  },
  {
   "cell_type": "code",
   "execution_count": null,
   "id": "3e4d97e5",
   "metadata": {},
   "outputs": [],
   "source": [
    "# Get the userRated groupby object\n",
    "userRated = filteredRatingsDf.groupby(['UserID'])[['Rating']].count().sort_values('Rating', ascending=False)\n",
    "print(userRated.head())\n",
    "print(userRated.describe())"
   ]
  },
  {
   "cell_type": "code",
   "execution_count": null,
   "id": "3d993bbf",
   "metadata": {},
   "outputs": [],
   "source": [
    "# Compute summaries of the userRated object\n",
    "medianNumRatingsPerUser = userRated.median()['Rating']\n",
    "minNumRatingsPerUser = userRated.min()['Rating']\n",
    "maxNumRatingsPerUser = userRated.max()['Rating']\n",
    "numUniqueFilteredUsers = filteredRatingsDf['UserID'].nunique() \n",
    "print(\"There are {} users who rated movies, with the median and maximum number of movies rated per user being {} and {}\".format(numUniqueFilteredUsers,medianNumRatingsPerUser,maxNumRatingsPerUser))"
   ]
  },
  {
   "cell_type": "code",
   "execution_count": null,
   "id": "aa5e9fc8",
   "metadata": {},
   "outputs": [],
   "source": [
    "# Plot the (plain) distribution of rating counts by user\n",
    "import matplotlib.pyplot as plt\n",
    "import numpy as np\n",
    "%matplotlib inline\n",
    "rangeUserRatings = np.arange(minNumRatingsPerUser-1,maxNumRatingsPerUser)\n",
    "plt.hist(userRated['Rating'], bins=30)\n",
    "xlabel = 'How many movies were rated by each user'\n",
    "ylabel = 'Number of Users'\n",
    "title = 'Distribution of rating counts per User'\n",
    "plt.ylabel(ylabel)\n",
    "plt.xlabel(xlabel)\n",
    "plt.axvline(x=medianNumRatingsPerUser, color='r')\n",
    "plt.title(title)\n",
    "plt.show()"
   ]
  },
  {
   "cell_type": "code",
   "execution_count": null,
   "id": "d3d3de78",
   "metadata": {},
   "outputs": [],
   "source": [
    "# Plot the annotated distribution of rating counts per user\n",
    "import seaborn as sns\n",
    "g = sns.displot(data=userRated['Rating'], bins=30, kde=True, rug=True)\n",
    "g.set_titles(title)\n",
    "g.set_axis_labels(xlabel,ylabel)\n",
    "plt.show()"
   ]
  },
  {
   "cell_type": "markdown",
   "id": "28b19c3a",
   "metadata": {},
   "source": [
    "__Task 2.3__: Repeat Task 2.2 above, but deriving the average ratings rather than their counts.\n",
    "The distribution of average ratings per user differs from the distribution of how many movies a user reviews.\n",
    "You can also look at the the distribution of average ratings per movie and the distribution of how many users rate each movie.\n",
    "From your understanding of a rating system, comment on the similarities and differences."
   ]
  },
  {
   "cell_type": "code",
   "execution_count": null,
   "id": "6735b7a9",
   "metadata": {},
   "outputs": [],
   "source": [
    "## BEGIN YOUR ANSWER HERE"
   ]
  },
  {
   "cell_type": "code",
   "execution_count": null,
   "id": "8f9576e0",
   "metadata": {},
   "outputs": [],
   "source": []
  },
  {
   "cell_type": "markdown",
   "id": "9d34650f",
   "metadata": {},
   "source": [
    "**Comments**\n",
    "\n",
    " *"
   ]
  },
  {
   "cell_type": "code",
   "execution_count": null,
   "id": "d6abd002",
   "metadata": {},
   "outputs": [],
   "source": [
    "## END YOUR ANSWER HERE"
   ]
  },
  {
   "cell_type": "markdown",
   "id": "ffa4f0b3",
   "metadata": {},
   "source": [
    "__Task 2.4__: Load the (filtered) movies ratings data from the dataframe we have been exploring into the preferred 3-column format used by the `scikit-suprise` package. Now benchmark the performance (in terms of RMS error, time to fit, and time to generate predictions for test data) of the `SVD()`, `SlopeOne()`, `NMF()`, `KNNBasic()` recommendation algorithms. Discuss the strengths and weaknesses of each algorithm, based on its benchmarked results.\n"
   ]
  },
  {
   "cell_type": "code",
   "execution_count": null,
   "id": "c9221b4f",
   "metadata": {},
   "outputs": [],
   "source": [
    "# 1. `scikit-surprise` provides a `cross_validate` function that can be used to estimate the test error in the test data, using the requested error metric.\n",
    "# 2. When collecting the benchmark data, it is convenient to loop over the algorithms and to add the results for each algorithm as a row to the benchmark dataframe.\n",
    "# 3. The following python code can be used to add `results` as a row to a `benchmark` dataframe.\n",
    "# You are advised to plot the results, and to pay attention to fit, test and overall times and how they vary between the algorithms. Comment on what you find."
   ]
  },
  {
   "cell_type": "code",
   "execution_count": null,
   "id": "0672ace5",
   "metadata": {},
   "outputs": [],
   "source": [
    "from surprise import Dataset, Reader\n",
    "from surprise.model_selection import cross_validate\n",
    "from surprise import KNNBasic, NMF, SlopeOne, SVD\n",
    "\n",
    "reader = Reader(rating_scale=(0, 5))\n",
    "data = Dataset.load_from_df(filteredRatingsDf[['UserID', 'MovieID', 'Rating']], reader)"
   ]
  },
  {
   "cell_type": "code",
   "execution_count": null,
   "id": "fe030662",
   "metadata": {},
   "outputs": [],
   "source": [
    "benchmark = pd.DataFrame()\n",
    "algorithms = [KNNBasic(), SVD(), SlopeOne(), NMF()]\n",
    "\n",
    "# Iterate over all algorithms\n",
    "for algorithm in algorithms:\n",
    "    # Perform cross validation\n",
    "    results = cross_validate(algorithm, data, measures=['RMSE','MAE'], cv=3, verbose=False)\n",
    "    \n",
    "    # Get results & append algorithm name\n",
    "    tmp = pd.DataFrame.from_dict(results).mean(axis=0)\n",
    "    tmp = tmp.append(pd.Series([str(algorithm).split(' ')[0].split('.')[-1]], index=['Algorithm']))\n",
    "    benchmark = benchmark.append(tmp, ignore_index=True)\n",
    "    \n",
    "benchmark.set_index('Algorithm').sort_values('test_rmse')\n",
    "benchmark['comp_time'] = benchmark['fit_time'] + benchmark['test_time']\n",
    "\n",
    "print(benchmark)"
   ]
  },
  {
   "cell_type": "code",
   "execution_count": null,
   "id": "c3dc35a2",
   "metadata": {},
   "outputs": [],
   "source": [
    "## BEGIN YOUR ANSWER HERE"
   ]
  },
  {
   "cell_type": "code",
   "execution_count": null,
   "id": "98394fa3",
   "metadata": {},
   "outputs": [],
   "source": []
  },
  {
   "cell_type": "markdown",
   "id": "84dff068",
   "metadata": {},
   "source": [
    "**Comments**\n",
    "\n",
    " *"
   ]
  },
  {
   "cell_type": "code",
   "execution_count": null,
   "id": "c22727ce",
   "metadata": {},
   "outputs": [],
   "source": [
    "## END YOUR ANSWER HERE"
   ]
  }
 ],
 "metadata": {
  "jupytext": {
   "encoding": "# -*- coding: utf-8 -*-",
   "formats": "ipynb,py:percent"
  },
  "kernelspec": {
   "display_name": "Python 3",
   "language": "python",
   "name": "python3"
  }
 },
 "nbformat": 4,
 "nbformat_minor": 5
}
