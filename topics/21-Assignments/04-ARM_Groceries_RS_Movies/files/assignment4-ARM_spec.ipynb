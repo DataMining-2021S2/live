{
 "cells": [
  {
   "cell_type": "markdown",
   "id": "470b9c46",
   "metadata": {},
   "source": [
    "# Assignment 3: Association Analysis"
   ]
  },
  {
   "cell_type": "markdown",
   "id": "b93b549a",
   "metadata": {},
   "source": [
    "To read Excel files, you might need to install the `xlrd` package, using something like:\n",
    "\n",
    "Select the conda environment you use for this module (skip this step if you have not created a separate environment for this \n",
    "\n",
    "    conda activate myEnvironment  # where myEnvironment is the conda environment you use for this module\n",
    "\n",
    "then install as usual\n",
    "\n",
    "    conda install xlrd\n",
    "\n",
    "Note:\n",
    "\n",
    " * To run these command from within a notebook you prefix command with !  \n",
    " * You will also need the package `mlxtend` which you installed as part of the Week 10 - ARM practical."
   ]
  },
  {
   "cell_type": "markdown",
   "id": "65c7a313",
   "metadata": {},
   "source": [
    "You may find the following useful to obtain the data from the UCI data repository, and to read it into a dataframe."
   ]
  },
  {
   "cell_type": "code",
   "execution_count": null,
   "id": "6c7ae0ac",
   "metadata": {},
   "outputs": [],
   "source": [
    "import pandas as pd\n",
    "from mlxtend.frequent_patterns import apriori\n",
    "from mlxtend.frequent_patterns import association_rules\n",
    "\n",
    "import requests, os\n",
    "csvUrl = \"https://raw.githubusercontent.com/stedy/Machine-Learning-with-R-datasets/master/groceries.csv\"\n",
    "csvFile = 'data/groceries.csv'\n",
    "xlUrl = 'https://archive.ics.uci.edu/ml/machine-learning-databases/00352/Online%20Retail.xlsx'\n",
    "xlFile = 'data/Online Retail.xlsx'\n",
    "dataFile = xlFile\n",
    "url = xlUrl\n",
    "if not os.path.exists('data'):\n",
    "    os.makedirs('data')\n",
    "if not os.path.isfile(dataFile):\n",
    "    r = requests.get(url)\n",
    "    with open(dataFile, 'wb') as f:\n",
    "        f.write(r.content)\n",
    "if (dataFile == xlFile):\n",
    "    df = pd.read_excel(dataFile)\n",
    "else:\n",
    "    df = pd.read_csv(dataFile)\n",
    "df.head()"
   ]
  },
  {
   "cell_type": "markdown",
   "id": "b9fbd4cf",
   "metadata": {},
   "source": [
    "The following lines tidy up the description column, ensure that every row is assigned an invoice number, and that they represent actual transactions."
   ]
  },
  {
   "cell_type": "code",
   "execution_count": null,
   "id": "740f426e",
   "metadata": {},
   "outputs": [],
   "source": [
    "df['Description'] = df['Description'].str.strip()\n",
    "df.dropna(axis=0, subset=['InvoiceNo'], inplace=True)\n",
    "df['InvoiceNo'] = df['InvoiceNo'].astype('str')\n",
    "df = df[~df['InvoiceNo'].str.contains('C')]\n",
    "df.shape"
   ]
  },
  {
   "cell_type": "code",
   "execution_count": null,
   "id": "dcc0d755",
   "metadata": {},
   "outputs": [],
   "source": [
    "# Get the unique list of countries\n",
    "print(df['Country'].unique())"
   ]
  },
  {
   "cell_type": "markdown",
   "id": "0ebdd958",
   "metadata": {},
   "source": [
    "__Task 1.1__: Select the transactions arising from the `Country` having _9042_ records in the dataframe and convert them to the OneHotEncoded form, where each column has (0,1) values representing the (absence,presence) of that product in a given basket, where each basket (row) is labeled by its `InvoiceNo`.\n",
    "Use mlxtend's `apriori` function to find the frequent itemsets where the minimum support threshold is set to 0.02. You should check the number of frequent itemsets &mdash; you should find there are 528. \n",
    "\n",
    "Hints\n",
    "1. Use `groupby` and `size()` to determined the number of rows per `Country`.\n",
    "2. Use `groupby` and `sum()` on the `Quantity` to encode as 0 and positive integer, and `reset_index()` so that the rows are labeled by `InvoiceNo`. Remember to set any positive numbers to 1 rather than a frequency count."
   ]
  },
  {
   "cell_type": "code",
   "execution_count": null,
   "id": "879f593a",
   "metadata": {},
   "outputs": [],
   "source": [
    "## BEGIN YOUR ANSWER HERE"
   ]
  },
  {
   "cell_type": "code",
   "execution_count": null,
   "id": "efed0872",
   "metadata": {},
   "outputs": [],
   "source": []
  },
  {
   "cell_type": "code",
   "execution_count": null,
   "id": "0d20f68b",
   "metadata": {},
   "outputs": [],
   "source": [
    "## END YOUR ANSWER HERE"
   ]
  },
  {
   "cell_type": "markdown",
   "id": "13782840",
   "metadata": {},
   "source": [
    "__Task 1.2__: Use mlxtend's `association_rules` function to find the association rules where the minimum lift threshold is 1.\n",
    "Sort them in non-increasing order of lift (largest to smallest).\n",
    "You should then check the number of such rules &mdash; you should find there are 738 such rules."
   ]
  },
  {
   "cell_type": "code",
   "execution_count": null,
   "id": "0db7176b",
   "metadata": {},
   "outputs": [],
   "source": [
    "## BEGIN YOUR ANSWER HERE"
   ]
  },
  {
   "cell_type": "code",
   "execution_count": null,
   "id": "24aeebe2",
   "metadata": {},
   "outputs": [],
   "source": []
  },
  {
   "cell_type": "code",
   "execution_count": null,
   "id": "6269cb3c",
   "metadata": {},
   "outputs": [],
   "source": [
    "## END YOUR ANSWER HERE"
   ]
  },
  {
   "cell_type": "code",
   "execution_count": null,
   "id": "95d2937a",
   "metadata": {},
   "outputs": [],
   "source": [
    "rules.sort_values(by='lift',ascending=False)\n",
    "rules.head()"
   ]
  },
  {
   "cell_type": "markdown",
   "id": "dc8f35b8",
   "metadata": {},
   "source": [
    "add new column storing the rule length"
   ]
  },
  {
   "cell_type": "code",
   "execution_count": null,
   "id": "3949d7ea",
   "metadata": {},
   "outputs": [],
   "source": [
    "rules[\"rule_len\"] = rules.apply(lambda row: len(row[\"antecedents\"])+len(row[\"consequents\"]), axis=1)\n",
    "rules[rules[\"rule_len\"]==2].sort_values(by='lift',ascending=False).head()"
   ]
  },
  {
   "cell_type": "markdown",
   "id": "e3743b42",
   "metadata": {
    "lines_to_next_cell": 2
   },
   "source": [
    "__Task 1.3__: Comparing row indexes 452 and 453 above, which have the same lift value (32.642857), by reviewing the rule metrics above, would it be better to suggest 'BLUE VINTAGE SPOT BEAKER' to someone who already had 'PINK VINTAGE SPOT BEAKER', or vice-versa? Give reasons for your answer."
   ]
  },
  {
   "cell_type": "code",
   "execution_count": null,
   "id": "2717128a",
   "metadata": {},
   "outputs": [],
   "source": [
    "## BEGIN YOUR ANSWER HERE"
   ]
  },
  {
   "cell_type": "code",
   "execution_count": null,
   "id": "7c735b49",
   "metadata": {},
   "outputs": [],
   "source": []
  },
  {
   "cell_type": "markdown",
   "id": "b845bae0",
   "metadata": {},
   "source": [
    "**Comments**\n",
    "\n",
    " *"
   ]
  },
  {
   "cell_type": "code",
   "execution_count": null,
   "id": "3ed04b77",
   "metadata": {},
   "outputs": [],
   "source": [
    "## END YOUR ANSWER HERE"
   ]
  }
 ],
 "metadata": {
  "jupytext": {
   "encoding": "# -*- coding: utf-8 -*-",
   "formats": "ipynb,py:percent"
  },
  "kernelspec": {
   "display_name": "Python 3",
   "language": "python",
   "name": "python3"
  }
 },
 "nbformat": 4,
 "nbformat_minor": 5
}
